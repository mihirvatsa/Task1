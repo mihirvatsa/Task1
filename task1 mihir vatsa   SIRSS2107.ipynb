{
 "cells": [
  {
   "cell_type": "markdown",
   "id": "6483e952",
   "metadata": {},
   "source": [
    "Q1.\n",
    "\n",
    "5 5 5 5 5\n",
    "\n",
    "5 5 5 5\n",
    "\n",
    "5 5 5\n",
    "\n",
    "5 5\n",
    "\n",
    "5"
   ]
  },
  {
   "cell_type": "code",
   "execution_count": 1,
   "id": "08734c3e",
   "metadata": {},
   "outputs": [
    {
     "name": "stdout",
     "output_type": "stream",
     "text": [
      "5 5 5 5 5 \n",
      "5 5 5 5 \n",
      "5 5 5 \n",
      "5 5 \n",
      "5 \n"
     ]
    }
   ],
   "source": [
    "for i in range (6,1,-1):\n",
    "  for j in range (i,1,-1):\n",
    "    print(\"5\", end =\" \")\n",
    "  print()"
   ]
  },
  {
   "cell_type": "markdown",
   "id": "4a70a6fb",
   "metadata": {},
   "source": [
    "Q.2\n",
    "\n",
    "0 1 2 3 4 5\n",
    "\n",
    "0 1 2 3 4\n",
    "\n",
    "0 1 2 3\n",
    "\n",
    "0 1 2\n",
    "\n",
    "0 1"
   ]
  },
  {
   "cell_type": "code",
   "execution_count": 2,
   "id": "50450d00",
   "metadata": {},
   "outputs": [
    {
     "name": "stdout",
     "output_type": "stream",
     "text": [
      "0 1 2 3 4 5 \n",
      "0 1 2 3 4 \n",
      "0 1 2 3 \n",
      "0 1 2 \n",
      "0 1 \n"
     ]
    }
   ],
   "source": [
    "for i in range (6,1,-1):\n",
    "  for j in range (0,i,1):\n",
    "    print(j, end =\" \")\n",
    "  print()"
   ]
  },
  {
   "cell_type": "markdown",
   "id": "0a7a020c",
   "metadata": {},
   "source": [
    "Q.3\n",
    "\n",
    "1\n",
    "\n",
    "3 3\n",
    "\n",
    "5 5 5\n",
    "\n",
    "7 7 7 7 \n",
    "\n",
    "9 9 9 9 9\n"
   ]
  },
  {
   "cell_type": "code",
   "execution_count": 3,
   "id": "d1288a77",
   "metadata": {},
   "outputs": [
    {
     "name": "stdout",
     "output_type": "stream",
     "text": [
      "1 \n",
      "3 3 \n",
      "5 5 5 \n",
      "7 7 7 7 \n",
      "9 9 9 9 9 \n"
     ]
    }
   ],
   "source": [
    "for i in range (1,6,1):\n",
    "  for j in range (0,i,1):\n",
    "    print(2*i-1, end =\" \")\n",
    "  print()"
   ]
  },
  {
   "cell_type": "markdown",
   "id": "75cf41f5",
   "metadata": {},
   "source": [
    "Q.4\n",
    "1\n",
    "2 1\n",
    "3 2 1\n",
    "4 3 2 1\n",
    "5 4 3 2 1"
   ]
  },
  {
   "cell_type": "code",
   "execution_count": 5,
   "id": "effcf840",
   "metadata": {},
   "outputs": [
    {
     "name": "stdout",
     "output_type": "stream",
     "text": [
      "1 \n",
      "2 1 \n",
      "3 2 1 \n",
      "4 3 2 1 \n",
      "5 4 3 2 1 \n"
     ]
    }
   ],
   "source": [
    "for i in range (1,6,1):\n",
    "  for j in range (0,i,1):\n",
    "    print(i-j, end =\" \")\n",
    "  print()"
   ]
  },
  {
   "cell_type": "markdown",
   "id": "d7af3f8b",
   "metadata": {},
   "source": [
    "Q.5\n",
    "1\n",
    "3 2\n",
    "6 5 4\n",
    "10 9 8 7"
   ]
  },
  {
   "cell_type": "code",
   "execution_count": 7,
   "id": "590de28d",
   "metadata": {},
   "outputs": [
    {
     "name": "stdout",
     "output_type": "stream",
     "text": [
      "1 \n",
      "3 2 \n",
      "6 5 4 \n",
      "10 9 8 7 \n"
     ]
    }
   ],
   "source": [
    "k=1\n",
    "for i in range (1,5,1):\n",
    "  for j in range (0,i,1):\n",
    "    print(k-j, end =\" \")\n",
    "  k=k+i+1\n",
    "  print()"
   ]
  },
  {
   "cell_type": "markdown",
   "id": "35834d03",
   "metadata": {},
   "source": [
    "Q.6\n",
    "1\n",
    "1 1\n",
    "1 2 1\n",
    "1 3 3 1\n",
    "1 4 6 4 1\n",
    "1 5 10 10 5 1\n",
    "1 6 15 20 15 6 1"
   ]
  },
  {
   "cell_type": "code",
   "execution_count": 9,
   "id": "5da72edd",
   "metadata": {},
   "outputs": [
    {
     "name": "stdout",
     "output_type": "stream",
     "text": [
      "Enter the row number15\n",
      "1 \n",
      "1 1 \n",
      "1 2 1 \n",
      "1 3 3 1 \n",
      "1 4 6 4 1 \n",
      "1 5 10 10 5 1 \n",
      "1 6 15 20 15 6 1 \n",
      "1 7 21 35 35 21 7 1 \n",
      "1 8 28 56 70 56 28 8 1 \n",
      "1 9 36 84 126 126 84 36 9 1 \n",
      "1 10 45 120 210 252 210 120 45 10 1 \n",
      "1 11 55 165 330 462 462 330 165 55 11 1 \n",
      "1 12 66 220 495 792 924 792 495 220 66 12 1 \n",
      "1 13 78 286 715 1287 1716 1716 1287 715 286 78 13 1 \n",
      "1 14 91 364 1001 2002 3003 3432 3003 2002 1001 364 91 14 1 \n"
     ]
    }
   ],
   "source": [
    "n=int(input(\"Enter the row number\"))\n",
    "list1 = []\n",
    "for i in range(n):\n",
    "    temp_list=[]\n",
    "    for j in range(i+1):\n",
    "        if j==0 or j==i:\n",
    "            temp_list.append(1)\n",
    "        else:\n",
    "            temp_list.append(list1[i-1][j-1] + list1[i-1][j])\n",
    "    list1.append(temp_list)\n",
    "    \n",
    "for i in range(n):\n",
    "    for j in range(i+1):\n",
    "        print(list1[i][j], end=\" \")\n",
    "    print()\n",
    "    \n",
    "    "
   ]
  },
  {
   "cell_type": "markdown",
   "id": "c9372728",
   "metadata": {},
   "source": [
    "Q.7\n",
    "1 2 3 4 5\n",
    "2 2 3 4 5\n",
    "3 3 3 4 5\n",
    "4 4 4 4 5\n",
    "5 5 5 5 5"
   ]
  },
  {
   "cell_type": "code",
   "execution_count": 12,
   "id": "ccceb4db",
   "metadata": {},
   "outputs": [
    {
     "name": "stdout",
     "output_type": "stream",
     "text": [
      "1 2 3 4 5 \n",
      "2 2 3 4 5 \n",
      "3 3 3 4 5 \n",
      "4 4 4 4 5 \n",
      "5 5 5 5 5 \n"
     ]
    }
   ],
   "source": [
    "for i in range(1,6):\n",
    "  for j in range (1,6):\n",
    "    if i>j:\n",
    "      print(i,end=\" \")\n",
    "    else:\n",
    "      print(j,end=\" \")\n",
    "  print()"
   ]
  },
  {
   "cell_type": "markdown",
   "id": "915dd5b0",
   "metadata": {},
   "source": [
    "Q.8\n",
    "\n",
    "1\n",
    "2 4\n",
    "3 6 9\n",
    "4 8 12 16\n",
    "5 10 15 20 25\n",
    "6 12 18 24 30 36\n",
    "7 14 21 28 35 42 49\n",
    "8 16 24 32 40 48 56 64\n"
   ]
  },
  {
   "cell_type": "code",
   "execution_count": 14,
   "id": "2fdb434c",
   "metadata": {},
   "outputs": [
    {
     "name": "stdout",
     "output_type": "stream",
     "text": [
      "1 \n",
      "2 4 \n",
      "3 6 9 \n",
      "4 8 12 16 \n",
      "5 10 15 20 25 \n",
      "6 12 18 24 30 36 \n",
      "7 14 21 28 35 42 49 \n",
      "8 16 24 32 40 48 56 64 \n"
     ]
    }
   ],
   "source": [
    "for i in range(1,9):\n",
    "    x=1\n",
    "    for j in range(1,i+1):\n",
    "        n=i*x\n",
    "        print(n, end=\" \")\n",
    "        x+=1\n",
    "    print()"
   ]
  },
  {
   "cell_type": "markdown",
   "id": "9284d5e2",
   "metadata": {},
   "source": [
    "Q.9\n",
    "* * * * * *\n",
    "* * * * *\n",
    "* * * *\n",
    "* * *\n",
    "* *\n",
    "*"
   ]
  },
  {
   "cell_type": "code",
   "execution_count": 16,
   "id": "54a02767",
   "metadata": {},
   "outputs": [
    {
     "name": "stdout",
     "output_type": "stream",
     "text": [
      "Enter a number6\n",
      "* * * * * * \n",
      " * * * * * \n",
      "  * * * * \n",
      "   * * * \n",
      "    * * \n",
      "     * \n"
     ]
    }
   ],
   "source": [
    "n=int(input(\"Enter a number\"))\n",
    "for i in range(n,0,-1):\n",
    "    print(\" \"*(n-i)+\"* \"*i)\n",
    "    \n",
    "    \n",
    "    "
   ]
  },
  {
   "cell_type": "markdown",
   "id": "e2833bca",
   "metadata": {},
   "source": [
    "Q. 10\n",
    "\n",
    "*\n",
    "* *\n",
    "* * *\n",
    "* * * *\n",
    "* * * * *\n",
    "* * * * * *\n",
    "* * * * * * *\n",
    "\n"
   ]
  },
  {
   "cell_type": "code",
   "execution_count": 18,
   "id": "b1064ec1",
   "metadata": {},
   "outputs": [
    {
     "name": "stdout",
     "output_type": "stream",
     "text": [
      "Enter a number7\n",
      "      * \n",
      "     * * \n",
      "    * * * \n",
      "   * * * * \n",
      "  * * * * * \n",
      " * * * * * * \n",
      "* * * * * * * \n"
     ]
    }
   ],
   "source": [
    "n=int(input(\"Enter a number\"))\n",
    "for i in range(1,n+1):\n",
    "    print(\" \"*(n-i)+\"* \"*i)"
   ]
  },
  {
   "cell_type": "markdown",
   "id": "0a004f2e",
   "metadata": {},
   "source": [
    "Q.11\n",
    "* * * * * * * * * * * * * * * * * * * * * * * * * * * * * * * * * * * * * * * * * *\n"
   ]
  },
  {
   "cell_type": "code",
   "execution_count": 20,
   "id": "ee70e7ef",
   "metadata": {},
   "outputs": [
    {
     "name": "stdout",
     "output_type": "stream",
     "text": [
      "* \n",
      "* * \n",
      "* * * \n",
      "* * * * \n",
      "* * * * * \n",
      "* * * * * * \n",
      "\n",
      "* * * * * * \n",
      "* * * * * \n",
      "* * * * \n",
      "* * * \n",
      "* * \n",
      "* \n"
     ]
    }
   ],
   "source": [
    "for i in range(1,7):\n",
    "    print(\"* \"*i)\n",
    "    \n",
    "    \n",
    "print()\n",
    "for i in range(6,0,-1):\n",
    "    print(\"* \"*i)"
   ]
  },
  {
   "cell_type": "markdown",
   "id": "f70ffbbc",
   "metadata": {},
   "source": [
    "Q.12\n",
    "* * * * * * * * * * * * * * * * * * * * * * * * *"
   ]
  },
  {
   "cell_type": "code",
   "execution_count": 22,
   "id": "2547b03c",
   "metadata": {},
   "outputs": [
    {
     "name": "stdout",
     "output_type": "stream",
     "text": [
      "* \n",
      "* * \n",
      "* * * \n",
      "* * * * \n",
      "* * * * * \n",
      "* * * * \n",
      "* * * \n",
      "* * \n",
      "* \n"
     ]
    }
   ],
   "source": [
    "for i in range(1,6):\n",
    "    print(\"* \"*i)\n",
    "for i in range(4,0,-1):\n",
    "    print(\"* \"*i)\n",
    "    \n",
    "    \n",
    "    \n",
    "    \n",
    "    "
   ]
  },
  {
   "cell_type": "markdown",
   "id": "6eb4fa6d",
   "metadata": {},
   "source": [
    "Q.13\n",
    "* * * * * * * * * * * * * * * * * * * * * * * * *"
   ]
  },
  {
   "cell_type": "code",
   "execution_count": 23,
   "id": "26f18543",
   "metadata": {},
   "outputs": [
    {
     "name": "stdout",
     "output_type": "stream",
     "text": [
      "Enter a number17\n",
      "                                * \n",
      "                              * * \n",
      "                            * * * \n",
      "                          * * * * \n",
      "                        * * * * * \n",
      "                      * * * * * * \n",
      "                    * * * * * * * \n",
      "                  * * * * * * * * \n",
      "                * * * * * * * * * \n",
      "              * * * * * * * * * * \n",
      "            * * * * * * * * * * * \n",
      "          * * * * * * * * * * * * \n",
      "        * * * * * * * * * * * * * \n",
      "      * * * * * * * * * * * * * * \n",
      "    * * * * * * * * * * * * * * * \n",
      "  * * * * * * * * * * * * * * * * \n",
      "* * * * * * * * * * * * * * * * * \n",
      "  * * * * * * * * * * * * * * * * \n",
      "    * * * * * * * * * * * * * * * \n",
      "      * * * * * * * * * * * * * * \n",
      "        * * * * * * * * * * * * * \n",
      "          * * * * * * * * * * * * \n",
      "            * * * * * * * * * * * \n",
      "              * * * * * * * * * * \n",
      "                * * * * * * * * * \n",
      "                  * * * * * * * * \n",
      "                    * * * * * * * \n",
      "                      * * * * * * \n",
      "                        * * * * * \n",
      "                          * * * * \n",
      "                            * * * \n",
      "                              * * \n",
      "                                * \n"
     ]
    }
   ],
   "source": [
    "n=int(input(\"Enter a number\"))\n",
    "for i in range(1,n+1):\n",
    "    print(\"  \"*(n-i)+\"* \"*i)\n",
    "for i in range(n-1,0,-1):\n",
    "    print(\"  \"*(n-i)+\"* \"*i)"
   ]
  },
  {
   "cell_type": "markdown",
   "id": "46045598",
   "metadata": {},
   "source": [
    "Q.14\n",
    "* * * * * * * * * * * * * * * * * * * * * * * * * * * * * *"
   ]
  },
  {
   "cell_type": "code",
   "execution_count": 24,
   "id": "f0572bc9",
   "metadata": {},
   "outputs": [
    {
     "name": "stdout",
     "output_type": "stream",
     "text": [
      "Enter a number12\n",
      "* * * * * * * * * * * * \n",
      " * * * * * * * * * * * \n",
      "  * * * * * * * * * * \n",
      "   * * * * * * * * * \n",
      "    * * * * * * * * \n",
      "     * * * * * * * \n",
      "      * * * * * * \n",
      "       * * * * * \n",
      "        * * * * \n",
      "         * * * \n",
      "          * * \n",
      "           * \n",
      "           * \n",
      "          * * \n",
      "         * * * \n",
      "        * * * * \n",
      "       * * * * * \n",
      "      * * * * * * \n",
      "     * * * * * * * \n",
      "    * * * * * * * * \n",
      "   * * * * * * * * * \n",
      "  * * * * * * * * * * \n",
      " * * * * * * * * * * * \n",
      "* * * * * * * * * * * * \n"
     ]
    }
   ],
   "source": [
    "n=int(input(\"Enter a number\"))\n",
    "for i in range(n,0,-1):\n",
    "    print(\" \"*(n-i)+\"* \"*i)\n",
    "for i in range(1,n+1):\n",
    "    print(\" \"*(n-i)+\"* \"*i)"
   ]
  },
  {
   "cell_type": "markdown",
   "id": "f623e9b9",
   "metadata": {},
   "source": [
    "Q.15\n",
    "**************** *******__******* ******____****** *****______***** ****________**** ***__________*** **____________** *______________*"
   ]
  },
  {
   "cell_type": "code",
   "execution_count": 25,
   "id": "05acad1c",
   "metadata": {},
   "outputs": [
    {
     "name": "stdout",
     "output_type": "stream",
     "text": [
      "****************\n",
      "*******__*******\n",
      "******____******\n",
      "*****______*****\n",
      "****________****\n",
      "***__________***\n",
      "**____________**\n",
      "*______________*\n"
     ]
    }
   ],
   "source": [
    "for i in range(1,9):\n",
    "    for j in range(1,17):\n",
    "        if(j<=9-i or j>=8+i):\n",
    "            print(\"*\", end=\"\")\n",
    "        else:\n",
    "            print(\"_\",end=\"\")\n",
    "    print()"
   ]
  },
  {
   "cell_type": "code",
   "execution_count": null,
   "id": "4a62952c",
   "metadata": {},
   "outputs": [],
   "source": []
  }
 ],
 "metadata": {
  "kernelspec": {
   "display_name": "Python 3",
   "language": "python",
   "name": "python3"
  },
  "language_info": {
   "codemirror_mode": {
    "name": "ipython",
    "version": 3
   },
   "file_extension": ".py",
   "mimetype": "text/x-python",
   "name": "python",
   "nbconvert_exporter": "python",
   "pygments_lexer": "ipython3",
   "version": "3.8.8"
  }
 },
 "nbformat": 4,
 "nbformat_minor": 5
}
