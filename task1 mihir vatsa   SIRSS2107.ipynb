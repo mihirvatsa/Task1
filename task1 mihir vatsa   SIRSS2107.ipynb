{
 "cells": [
  {
   "cell_type": "markdown",
   "id": "7da29ac1",
   "metadata": {},
   "source": [
    "#Task1\n",
    "\n",
    "SIRSS2107</br>\n",
    "</br>\n",
    "\n",
    "</h1></b>\n",
    "\n",
    "</br>Mihir Vatsa</br>"
   ]
  },
  {
   "cell_type": "markdown",
   "id": "4bf48163",
   "metadata": {},
   "source": [
    "Q1.\n",
    "\n",
    "5 5 5 5 5\n",
    "\n",
    "5 5 5 5\n",
    "\n",
    "5 5 5\n",
    "\n",
    "5 5\n",
    "\n",
    "5"
   ]
  },
  {
   "cell_type": "code",
   "execution_count": 1,
   "id": "cac5a3cb",
   "metadata": {},
   "outputs": [
    {
     "name": "stdout",
     "output_type": "stream",
     "text": [
      "5 5 5 5 5 \n",
      "5 5 5 5 \n",
      "5 5 5 \n",
      "5 5 \n",
      "5 \n"
     ]
    }
   ],
   "source": [
    "for i in range (6,1,-1):\n",
    "  for j in range (i,1,-1):\n",
    "    print(\"5\", end =\" \")\n",
    "  print()"
   ]
  },
  {
   "cell_type": "markdown",
   "id": "9b9d2e01",
   "metadata": {},
   "source": [
    "Q.2\n",
    "\n",
    "0 1 2 3 4 5\n",
    "\n",
    "0 1 2 3 4\n",
    "\n",
    "0 1 2 3\n",
    "\n",
    "0 1 2\n",
    "\n",
    "0 1"
   ]
  },
  {
   "cell_type": "code",
   "execution_count": 2,
   "id": "45b0778b",
   "metadata": {},
   "outputs": [
    {
     "name": "stdout",
     "output_type": "stream",
     "text": [
      "0 1 2 3 4 5 \n",
      "0 1 2 3 4 \n",
      "0 1 2 3 \n",
      "0 1 2 \n",
      "0 1 \n"
     ]
    }
   ],
   "source": [
    "for i in range (6,1,-1):\n",
    "  for j in range (0,i,1):\n",
    "    print(j, end =\" \")\n",
    "  print()"
   ]
  },
  {
   "cell_type": "markdown",
   "id": "e46b555a",
   "metadata": {},
   "source": [
    "Q.3\n",
    "\n",
    "1\n",
    "\n",
    "3 3\n",
    "\n",
    "5 5 5\n",
    "\n",
    "7 7 7 7 \n",
    "\n",
    "9 9 9 9 9\n"
   ]
  },
  {
   "cell_type": "code",
   "execution_count": 3,
   "id": "8a4607bf",
   "metadata": {},
   "outputs": [
    {
     "name": "stdout",
     "output_type": "stream",
     "text": [
      "1 \n",
      "3 3 \n",
      "5 5 5 \n",
      "7 7 7 7 \n",
      "9 9 9 9 9 \n"
     ]
    }
   ],
   "source": [
    "for i in range (1,6,1):\n",
    "  for j in range (0,i,1):\n",
    "    print(2*i-1, end =\" \")\n",
    "  print()"
   ]
  },
  {
   "cell_type": "markdown",
   "id": "630b3736",
   "metadata": {},
   "source": [
    "Q.4\n",
    "1\n",
    "2 1\n",
    "3 2 1\n",
    "4 3 2 1\n",
    "5 4 3 2 1"
   ]
  },
  {
   "cell_type": "code",
   "execution_count": 5,
   "id": "9bd25937",
   "metadata": {},
   "outputs": [
    {
     "name": "stdout",
     "output_type": "stream",
     "text": [
      "1 \n",
      "2 1 \n",
      "3 2 1 \n",
      "4 3 2 1 \n",
      "5 4 3 2 1 \n"
     ]
    }
   ],
   "source": [
    "for i in range (1,6,1):\n",
    "  for j in range (0,i,1):\n",
    "    print(i-j, end =\" \")\n",
    "  print()"
   ]
  },
  {
   "cell_type": "markdown",
   "id": "ed5ec480",
   "metadata": {},
   "source": [
    "Q.5\n",
    "1\n",
    "3 2\n",
    "6 5 4\n",
    "10 9 8 7"
   ]
  },
  {
   "cell_type": "code",
   "execution_count": 7,
   "id": "a2b5c2e4",
   "metadata": {},
   "outputs": [
    {
     "name": "stdout",
     "output_type": "stream",
     "text": [
      "1 \n",
      "3 2 \n",
      "6 5 4 \n",
      "10 9 8 7 \n"
     ]
    }
   ],
   "source": [
    "k=1\n",
    "for i in range (1,5,1):\n",
    "  for j in range (0,i,1):\n",
    "    print(k-j, end =\" \")\n",
    "  k=k+i+1\n",
    "  print()"
   ]
  },
  {
   "cell_type": "markdown",
   "id": "5b6aca81",
   "metadata": {},
   "source": [
    "Q.6\n",
    "1\n",
    "1 1\n",
    "1 2 1\n",
    "1 3 3 1\n",
    "1 4 6 4 1\n",
    "1 5 10 10 5 1\n",
    "1 6 15 20 15 6 1"
   ]
  },
  {
   "cell_type": "code",
   "execution_count": 9,
   "id": "8080a62b",
   "metadata": {},
   "outputs": [
    {
     "name": "stdout",
     "output_type": "stream",
     "text": [
      "Enter the row number15\n",
      "1 \n",
      "1 1 \n",
      "1 2 1 \n",
      "1 3 3 1 \n",
      "1 4 6 4 1 \n",
      "1 5 10 10 5 1 \n",
      "1 6 15 20 15 6 1 \n",
      "1 7 21 35 35 21 7 1 \n",
      "1 8 28 56 70 56 28 8 1 \n",
      "1 9 36 84 126 126 84 36 9 1 \n",
      "1 10 45 120 210 252 210 120 45 10 1 \n",
      "1 11 55 165 330 462 462 330 165 55 11 1 \n",
      "1 12 66 220 495 792 924 792 495 220 66 12 1 \n",
      "1 13 78 286 715 1287 1716 1716 1287 715 286 78 13 1 \n",
      "1 14 91 364 1001 2002 3003 3432 3003 2002 1001 364 91 14 1 \n"
     ]
    }
   ],
   "source": [
    "n=int(input(\"Enter the row number\"))\n",
    "list1 = []\n",
    "for i in range(n):\n",
    "    temp_list=[]\n",
    "    for j in range(i+1):\n",
    "        if j==0 or j==i:\n",
    "            temp_list.append(1)\n",
    "        else:\n",
    "            temp_list.append(list1[i-1][j-1] + list1[i-1][j])\n",
    "    list1.append(temp_list)\n",
    "    \n",
    "for i in range(n):\n",
    "    for j in range(i+1):\n",
    "        print(list1[i][j], end=\" \")\n",
    "    print()\n",
    "    \n",
    "    "
   ]
  },
  {
   "cell_type": "markdown",
   "id": "2c02f5ec",
   "metadata": {},
   "source": [
    "Q.7\n",
    "1 2 3 4 5\n",
    "2 2 3 4 5\n",
    "3 3 3 4 5\n",
    "4 4 4 4 5\n",
    "5 5 5 5 5"
   ]
  },
  {
   "cell_type": "code",
   "execution_count": 12,
   "id": "7213802f",
   "metadata": {},
   "outputs": [
    {
     "name": "stdout",
     "output_type": "stream",
     "text": [
      "1 2 3 4 5 \n",
      "2 2 3 4 5 \n",
      "3 3 3 4 5 \n",
      "4 4 4 4 5 \n",
      "5 5 5 5 5 \n"
     ]
    }
   ],
   "source": [
    "for i in range(1,6):\n",
    "  for j in range (1,6):\n",
    "    if i>j:\n",
    "      print(i,end=\" \")\n",
    "    else:\n",
    "      print(j,end=\" \")\n",
    "  print()"
   ]
  },
  {
   "cell_type": "markdown",
   "id": "54cc4542",
   "metadata": {},
   "source": [
    "Q.8\n",
    "\n",
    "1\n",
    "2 4\n",
    "3 6 9\n",
    "4 8 12 16\n",
    "5 10 15 20 25\n",
    "6 12 18 24 30 36\n",
    "7 14 21 28 35 42 49\n",
    "8 16 24 32 40 48 56 64\n"
   ]
  },
  {
   "cell_type": "code",
   "execution_count": 14,
   "id": "25f1dd5c",
   "metadata": {},
   "outputs": [
    {
     "name": "stdout",
     "output_type": "stream",
     "text": [
      "1 \n",
      "2 4 \n",
      "3 6 9 \n",
      "4 8 12 16 \n",
      "5 10 15 20 25 \n",
      "6 12 18 24 30 36 \n",
      "7 14 21 28 35 42 49 \n",
      "8 16 24 32 40 48 56 64 \n"
     ]
    }
   ],
   "source": [
    "for i in range(1,9):\n",
    "    x=1\n",
    "    for j in range(1,i+1):\n",
    "        n=i*x\n",
    "        print(n, end=\" \")\n",
    "        x+=1\n",
    "    print()"
   ]
  },
  {
   "cell_type": "markdown",
   "id": "4776a60f",
   "metadata": {},
   "source": [
    "Q.9\n",
    "* * * * * *\n",
    "* * * * *\n",
    "* * * *\n",
    "* * *\n",
    "* *\n",
    "*"
   ]
  },
  {
   "cell_type": "code",
   "execution_count": 16,
   "id": "3097d1c4",
   "metadata": {},
   "outputs": [
    {
     "name": "stdout",
     "output_type": "stream",
     "text": [
      "Enter a number6\n",
      "* * * * * * \n",
      " * * * * * \n",
      "  * * * * \n",
      "   * * * \n",
      "    * * \n",
      "     * \n"
     ]
    }
   ],
   "source": [
    "n=int(input(\"Enter a number\"))\n",
    "for i in range(n,0,-1):\n",
    "    print(\" \"*(n-i)+\"* \"*i)\n",
    "    \n",
    "    \n",
    "    "
   ]
  },
  {
   "cell_type": "markdown",
   "id": "949e14d9",
   "metadata": {},
   "source": [
    "Q. 10\n",
    "\n",
    "*\n",
    "* *\n",
    "* * *\n",
    "* * * *\n",
    "* * * * *\n",
    "* * * * * *\n",
    "* * * * * * *\n",
    "\n"
   ]
  },
  {
   "cell_type": "code",
   "execution_count": 18,
   "id": "108a9da8",
   "metadata": {},
   "outputs": [
    {
     "name": "stdout",
     "output_type": "stream",
     "text": [
      "Enter a number7\n",
      "      * \n",
      "     * * \n",
      "    * * * \n",
      "   * * * * \n",
      "  * * * * * \n",
      " * * * * * * \n",
      "* * * * * * * \n"
     ]
    }
   ],
   "source": [
    "n=int(input(\"Enter a number\"))\n",
    "for i in range(1,n+1):\n",
    "    print(\" \"*(n-i)+\"* \"*i)"
   ]
  },
  {
   "cell_type": "markdown",
   "id": "a45f554d",
   "metadata": {},
   "source": [
    "Q.11\n",
    "* * * * * * * * * * * * * * * * * * * * * * * * * * * * * * * * * * * * * * * * * *\n"
   ]
  },
  {
   "cell_type": "code",
   "execution_count": 20,
   "id": "1de1c24c",
   "metadata": {},
   "outputs": [
    {
     "name": "stdout",
     "output_type": "stream",
     "text": [
      "* \n",
      "* * \n",
      "* * * \n",
      "* * * * \n",
      "* * * * * \n",
      "* * * * * * \n",
      "\n",
      "* * * * * * \n",
      "* * * * * \n",
      "* * * * \n",
      "* * * \n",
      "* * \n",
      "* \n"
     ]
    }
   ],
   "source": [
    "for i in range(1,7):\n",
    "    print(\"* \"*i)\n",
    "    \n",
    "    \n",
    "print()\n",
    "for i in range(6,0,-1):\n",
    "    print(\"* \"*i)"
   ]
  },
  {
   "cell_type": "markdown",
   "id": "25aef2ca",
   "metadata": {},
   "source": [
    "Q.12\n",
    "* * * * * * * * * * * * * * * * * * * * * * * * *"
   ]
  },
  {
   "cell_type": "code",
   "execution_count": 22,
   "id": "c7756cf7",
   "metadata": {},
   "outputs": [
    {
     "name": "stdout",
     "output_type": "stream",
     "text": [
      "* \n",
      "* * \n",
      "* * * \n",
      "* * * * \n",
      "* * * * * \n",
      "* * * * \n",
      "* * * \n",
      "* * \n",
      "* \n"
     ]
    }
   ],
   "source": [
    "for i in range(1,6):\n",
    "    print(\"* \"*i)\n",
    "for i in range(4,0,-1):\n",
    "    print(\"* \"*i)\n",
    "    \n",
    "    \n",
    "    \n",
    "    \n",
    "    "
   ]
  },
  {
   "cell_type": "markdown",
   "id": "202afb93",
   "metadata": {},
   "source": [
    "Q.13\n",
    "* * * * * * * * * * * * * * * * * * * * * * * * *"
   ]
  },
  {
   "cell_type": "code",
   "execution_count": 23,
   "id": "05403dfa",
   "metadata": {},
   "outputs": [
    {
     "name": "stdout",
     "output_type": "stream",
     "text": [
      "Enter a number17\n",
      "                                * \n",
      "                              * * \n",
      "                            * * * \n",
      "                          * * * * \n",
      "                        * * * * * \n",
      "                      * * * * * * \n",
      "                    * * * * * * * \n",
      "                  * * * * * * * * \n",
      "                * * * * * * * * * \n",
      "              * * * * * * * * * * \n",
      "            * * * * * * * * * * * \n",
      "          * * * * * * * * * * * * \n",
      "        * * * * * * * * * * * * * \n",
      "      * * * * * * * * * * * * * * \n",
      "    * * * * * * * * * * * * * * * \n",
      "  * * * * * * * * * * * * * * * * \n",
      "* * * * * * * * * * * * * * * * * \n",
      "  * * * * * * * * * * * * * * * * \n",
      "    * * * * * * * * * * * * * * * \n",
      "      * * * * * * * * * * * * * * \n",
      "        * * * * * * * * * * * * * \n",
      "          * * * * * * * * * * * * \n",
      "            * * * * * * * * * * * \n",
      "              * * * * * * * * * * \n",
      "                * * * * * * * * * \n",
      "                  * * * * * * * * \n",
      "                    * * * * * * * \n",
      "                      * * * * * * \n",
      "                        * * * * * \n",
      "                          * * * * \n",
      "                            * * * \n",
      "                              * * \n",
      "                                * \n"
     ]
    }
   ],
   "source": [
    "n=int(input(\"Enter a number\"))\n",
    "for i in range(1,n+1):\n",
    "    print(\"  \"*(n-i)+\"* \"*i)\n",
    "for i in range(n-1,0,-1):\n",
    "    print(\"  \"*(n-i)+\"* \"*i)"
   ]
  },
  {
   "cell_type": "markdown",
   "id": "4e59aa3b",
   "metadata": {},
   "source": [
    "Q.14\n",
    "* * * * * * * * * * * * * * * * * * * * * * * * * * * * * *"
   ]
  },
  {
   "cell_type": "code",
   "execution_count": 24,
   "id": "4e17c4f9",
   "metadata": {},
   "outputs": [
    {
     "name": "stdout",
     "output_type": "stream",
     "text": [
      "Enter a number12\n",
      "* * * * * * * * * * * * \n",
      " * * * * * * * * * * * \n",
      "  * * * * * * * * * * \n",
      "   * * * * * * * * * \n",
      "    * * * * * * * * \n",
      "     * * * * * * * \n",
      "      * * * * * * \n",
      "       * * * * * \n",
      "        * * * * \n",
      "         * * * \n",
      "          * * \n",
      "           * \n",
      "           * \n",
      "          * * \n",
      "         * * * \n",
      "        * * * * \n",
      "       * * * * * \n",
      "      * * * * * * \n",
      "     * * * * * * * \n",
      "    * * * * * * * * \n",
      "   * * * * * * * * * \n",
      "  * * * * * * * * * * \n",
      " * * * * * * * * * * * \n",
      "* * * * * * * * * * * * \n"
     ]
    }
   ],
   "source": [
    "n=int(input(\"Enter a number\"))\n",
    "for i in range(n,0,-1):\n",
    "    print(\" \"*(n-i)+\"* \"*i)\n",
    "for i in range(1,n+1):\n",
    "    print(\" \"*(n-i)+\"* \"*i)"
   ]
  },
  {
   "cell_type": "markdown",
   "id": "4d05e142",
   "metadata": {},
   "source": [
    "Q.15\n",
    "**************** *******__******* ******____****** *****______***** ****________**** ***__________*** **____________** *______________*"
   ]
  },
  {
   "cell_type": "code",
   "execution_count": null,
   "id": "316faa79",
   "metadata": {},
   "outputs": [],
   "source": []
  },
  {
   "cell_type": "code",
   "execution_count": 25,
   "id": "645f161c",
   "metadata": {},
   "outputs": [
    {
     "name": "stdout",
     "output_type": "stream",
     "text": [
      "****************\n",
      "*******__*******\n",
      "******____******\n",
      "*****______*****\n",
      "****________****\n",
      "***__________***\n",
      "**____________**\n",
      "*______________*\n"
     ]
    }
   ],
   "source": [
    "for i in range(1,9):\n",
    "    for j in range(1,17):\n",
    "        if(j<=9-i or j>=8+i):\n",
    "            print(\"*\", end=\"\")\n",
    "        else:\n",
    "            print(\"_\",end=\"\")\n",
    "    print()"
   ]
  }
 ],
 "metadata": {
  "kernelspec": {
   "display_name": "Python 3",
   "language": "python",
   "name": "python3"
  },
  "language_info": {
   "codemirror_mode": {
    "name": "ipython",
    "version": 3
   },
   "file_extension": ".py",
   "mimetype": "text/x-python",
   "name": "python",
   "nbconvert_exporter": "python",
   "pygments_lexer": "ipython3",
   "version": "3.8.8"
  }
 },
 "nbformat": 4,
 "nbformat_minor": 5
}
